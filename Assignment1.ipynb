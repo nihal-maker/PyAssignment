{
 "cells": [
  {
   "cell_type": "code",
   "execution_count": null,
   "metadata": {},
   "outputs": [],
   "source": [
    "\n",
    "Q1.\n",
    "for i in range(2000,3200):\n",
    "        if(i%7==0 and i%5!=0 ):\n",
    "            print(i, end=\",\")\n",
    "\n",
    "Q2\n",
    "i = input(\"Enter your first name\")\n",
    "j = input(\"Enter your last name\")\n",
    "print(\"Your name in reverse order is \"+ j + \" \"+i )\n",
    "\n",
    "Q3\n",
    "V=4/3*(22/7)*6**3\n",
    "print(\"Volume of a sphere with diameter 12 cm is \", V)\n"
   ]
  },
  {
   "cell_type": "code",
   "execution_count": null,
   "metadata": {},
   "outputs": [],
   "source": []
  }
 ],
 "metadata": {
  "kernelspec": {
   "display_name": "Python 3",
   "language": "python",
   "name": "python3"
  },
  "language_info": {
   "codemirror_mode": {
    "name": "ipython",
    "version": 3
   },
   "file_extension": ".py",
   "mimetype": "text/x-python",
   "name": "python",
   "nbconvert_exporter": "python",
   "pygments_lexer": "ipython3",
   "version": "3.7.6"
  }
 },
 "nbformat": 4,
 "nbformat_minor": 4
}
