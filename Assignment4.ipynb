{
 "cells": [
  {
   "cell_type": "code",
   "execution_count": 5,
   "metadata": {},
   "outputs": [
    {
     "name": "stdout",
     "output_type": "stream",
     "text": [
      "Area of triangle of given sides are:6.0\n"
     ]
    }
   ],
   "source": [
    "class Triangle():\n",
    "    # Function to take length_of_side from parent class\n",
    "    def __init__(self, lengths_of_sides):\n",
    "      \n",
    "        self.lengths_of_sides = lengths_of_sides\n",
    "    # Function to calculate area in subclass\n",
    "    def calc_area(self):\n",
    "        a, b, c = self.lengths_of_sides\n",
    "        s = (a + b + c) / 2\n",
    "        return (s*(s-a)*(s-b)*(s-c)) ** 0.5\n",
    "    \n",
    "\n",
    "val= Triangle([5, 4, 3])\n",
    "print(\"Area of triangle of given sides are:\"  + str(val.calc_area()))\n"
   ]
  },
  {
   "cell_type": "code",
   "execution_count": null,
   "metadata": {},
   "outputs": [],
   "source": [
    "def filter_long_words(number,sentence):\n",
    "    long_word_list = []\n",
    "    word_split = sentence.split(\" \")\n",
    "    for words in word_split:\n",
    "        if len(words) > number:\n",
    "            long_word_list.append(words)\n",
    "    return long_word_list\n",
    "filter_long_words(2, \" We are here to learn DATASCIENCE, COMPUTERVISION and DEEPLEARNING at INEURON \")\n",
    "        \n",
    "    "
   ]
  },
  {
   "cell_type": "code",
   "execution_count": null,
   "metadata": {},
   "outputs": [],
   "source": [
    "def my_map(list_of_words):\n",
    "    length_of_words = []\n",
    "    for list_of_words in list_of_words:\n",
    "        length_of_words.append(len(list_of_words))\n",
    "    return length_of_words\n",
    "my_map([\"ram\",\"shyam\",\"Nihal Singh\"])"
   ]
  },
  {
   "cell_type": "code",
   "execution_count": null,
   "metadata": {},
   "outputs": [],
   "source": [
    "def vowel_check(c):\n",
    "    vowels =('a','i','e','o','u')\n",
    "    if c not in vowels:\n",
    "            return False\n",
    "    else:\n",
    "            return True\n",
    "vowel_check('c')"
   ]
  }
 ],
 "metadata": {
  "kernelspec": {
   "display_name": "Python 3",
   "language": "python",
   "name": "python3"
  },
  "language_info": {
   "codemirror_mode": {
    "name": "ipython",
    "version": 3
   },
   "file_extension": ".py",
   "mimetype": "text/x-python",
   "name": "python",
   "nbconvert_exporter": "python",
   "pygments_lexer": "ipython3",
   "version": "3.7.6"
  }
 },
 "nbformat": 4,
 "nbformat_minor": 4
}
